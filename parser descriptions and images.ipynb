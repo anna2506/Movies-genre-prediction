{
 "cells": [
  {
   "cell_type": "code",
   "execution_count": null,
   "id": "e9b99019",
   "metadata": {},
   "outputs": [],
   "source": [
    "import os \n",
    "\n",
    "from random import random, randrange\n",
    "from xmlrpc.client import MAXINT\n",
    "from bs4 import BeautifulSoup\n",
    "import numpy as np\n",
    "\n",
    "import time\n",
    "import requests\n",
    "import re\n",
    "import codecs\n",
    "import pandas as pd\n",
    "import concurrent.futures\n",
    "import matplotlib.pyplot as plt\n",
    "\n",
    "\n",
    "N_THREADS = 4\n",
    "ZEROS_STRING = \"\".join(\"0\" for i in range(7))\n",
    "\n",
    "url = 'http://www.imdb.com/title/tt'\n",
    "\n",
    "APPEND_LIMIT = 100\n",
    "\n",
    "data = []"
   ]
  },
  {
   "cell_type": "code",
   "execution_count": null,
   "id": "e407ca79",
   "metadata": {},
   "outputs": [],
   "source": [
    "# Data collection from the previous work\n",
    "movies = pd.read_parquet(\"Titles.parquet\")\n",
    "movies = movies[movies[\"titleType\"] == \"movie\"].reset_index(drop = True)"
   ]
  },
  {
   "cell_type": "code",
   "execution_count": null,
   "id": "121526bd",
   "metadata": {},
   "outputs": [],
   "source": [
    "ids = movies.id.values"
   ]
  },
  {
   "cell_type": "code",
   "execution_count": null,
   "id": "a795b9e5",
   "metadata": {},
   "outputs": [],
   "source": [
    "os.mkdir(\"C:\\\\Users\\\\a.atmaeva\\\\img\")"
   ]
  },
  {
   "cell_type": "code",
   "execution_count": null,
   "id": "06c72b45",
   "metadata": {},
   "outputs": [],
   "source": [
    "#Add description and pictures\n",
    "def scrap_titles(ids):\n",
    "\n",
    "    with concurrent.futures.ThreadPoolExecutor(max_workers=N_THREADS) as executor:\n",
    "        executor.map(scrap_title_by_id, ids)\n",
    "\n",
    "\n",
    "def scrap_title_by_id(id):\n",
    "    title = origin_title = age_restriction = country_of_origin = duration = director = release_date = budget = gorss_worldwide = rating = number_of_ratings = user_reveiws = crtitic_reviews = None\n",
    "    genres = []\n",
    "    if len(str(id)) == 8:\n",
    "        REVIEW_ID_LENGTH = 8\n",
    "    else:\n",
    "        REVIEW_ID_LENGTH = 7\n",
    "    response = requests.get(\n",
    "        url + ZEROS_STRING[:REVIEW_ID_LENGTH - len(str(id))] + str(id))\n",
    "    print(\n",
    "        f'{url + ZEROS_STRING[:REVIEW_ID_LENGTH - len(str(id))] + str(id)}    {response.status_code}')\n",
    "    if response.status_code == 503: \n",
    "            time.sleep(1200)\n",
    "    soup = BeautifulSoup(response.text, 'lxml')\n",
    "\n",
    "    title = soup.find(\n",
    "        \"h1\", {\"data-testid\": \"hero-title-block__title\"})\n",
    "    if title:\n",
    "        title = title.text\n",
    "\n",
    "    origin_title = soup.find(\n",
    "        \"div\", {\"data-testid\": \"hero-title-block__original-title\"})\n",
    "    if origin_title:\n",
    "        origin_title = origin_title.text.split(\": \")[1]\n",
    "\n",
    "    \n",
    "    film_description = soup.find(\"span\", {\"data-testid\":\"plot-xl\"}).text\n",
    "\n",
    "    image = soup.find('img')\n",
    "    image_url = image['src']\n",
    "    r = requests.get(image_url, stream = True).content\n",
    "    with open(f\"img/{id}.jpg\", \"wb+\") as f:\n",
    "                        f.write(r)\n",
    "    print(str(id) + \" \" + str(title) + \" \" + str(origin_title)  + str(film_description))\n",
    "\n",
    "    print(f'Data length: {len(data)}')\n",
    "    \n",
    "    data.append((id, title, origin_title, film_description))\n",
    "    if len(data) == APPEND_LIMIT:\n",
    "        df = pd.DataFrame(data)\n",
    "        df.to_csv('Titles_updated.csv', mode = 'a', index = False, header = False)\n",
    "        data.clear()\n",
    "\n",
    "scrap_titles(ids)"
   ]
  }
 ],
 "metadata": {
  "kernelspec": {
   "display_name": "Python 3 (ipykernel)",
   "language": "python",
   "name": "python3"
  },
  "language_info": {
   "codemirror_mode": {
    "name": "ipython",
    "version": 3
   },
   "file_extension": ".py",
   "mimetype": "text/x-python",
   "name": "python",
   "nbconvert_exporter": "python",
   "pygments_lexer": "ipython3",
   "version": "3.9.7"
  }
 },
 "nbformat": 4,
 "nbformat_minor": 5
}
